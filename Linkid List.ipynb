{
 "cells": [
  {
   "cell_type": "code",
   "execution_count": 1,
   "id": "59c8d7a7",
   "metadata": {},
   "outputs": [
    {
     "name": "stdout",
     "output_type": "stream",
     "text": [
      "Instance 1: Your name: DS\n",
      "Instance 2: Your name: CS\n",
      "Color is red\n"
     ]
    }
   ],
   "source": [
    "class Person:\n",
    "    color = \"red\"  # Class variable\n",
    "\n",
    "    def __init__(self, name):\n",
    "        self.name = name  # Instance variable\n",
    "\n",
    "    def display(self):\n",
    "        return f\"Your name: {self.name}\"\n",
    "\n",
    "    @classmethod\n",
    "    def class_display(cls):\n",
    "        # Class method can't access instance variables (like self.name)\n",
    "        # It can only access class variables (cls.color)\n",
    "        return f\"Color is {cls.color}\"\n",
    "\n",
    "person1 = Person(\"DS\")     \n",
    "person2 = Person(\"CS\")\n",
    "\n",
    "print(f\"Instance 1: {person1.display()}\")  \n",
    "print(f\"Instance 2: {person2.display()}\")  \n",
    "print(Person.class_display())  # Calling the class method"
   ]
  },
  {
   "cell_type": "code",
   "execution_count": 2,
   "id": "bcee5829",
   "metadata": {},
   "outputs": [],
   "source": [
    "class Node:\n",
    "    def __init__(self,data, address=None):\n",
    "        self.data=data\n",
    "        self.address=address\n"
   ]
  },
  {
   "cell_type": "code",
   "execution_count": 3,
   "id": "a75ab8bb",
   "metadata": {},
   "outputs": [],
   "source": [
    "node1=Node(45) \n",
    "node2=Node(50)  \n",
    "node3=Node(60)\n",
    "node4=Node(70)  \n"
   ]
  },
  {
   "cell_type": "code",
   "execution_count": 5,
   "id": "38a25440",
   "metadata": {},
   "outputs": [
    {
     "name": "stdout",
     "output_type": "stream",
     "text": [
      "45\n",
      "50\n",
      "60\n",
      "70\n",
      "None\n",
      "None\n",
      "None\n",
      "None\n"
     ]
    }
   ],
   "source": [
    "print(node1.data)   \n",
    "print(node2.data)\n",
    "print(node3.data)\n",
    "print(node4.data)\n",
    "print(node1.address)\n",
    "print(node2.address)\n",
    "print(node3.address)\n",
    "print(node4.address)\n"
   ]
  },
  {
   "cell_type": "code",
   "execution_count": 7,
   "id": "6b0dc473",
   "metadata": {},
   "outputs": [
    {
     "name": "stdout",
     "output_type": "stream",
     "text": [
      "<__main__.Node object at 0x000001F1ADC2A850>\n",
      "50\n",
      "<__main__.Node object at 0x000001F1ADC2A710>\n",
      "60\n",
      "<__main__.Node object at 0x000001F1ADD87230>\n",
      "70\n",
      "<__main__.Node object at 0x000001F1ADC63CB0>\n",
      "45\n"
     ]
    }
   ],
   "source": [
    "node1.address=node2     #to link address\n",
    "print(node1.address)  #to access data of node2 using address of node1\n",
    "print(node1.address.data)  #to access data of node2 using address of node1\n",
    "node2.address=node3     #to link address\n",
    "print(node2.address)  #to access data of node3 using address of node2\n",
    "print(node2.address.data)  #to access data of node3 using address of node2\n",
    "node3.address=node4     #to link address\n",
    "print(node3.address)  #to access data of node4 using address of node3\n",
    "print(node3.address.data)  #to access data of node4 using address of node3\n",
    "node4.address=node1     #to link address\n",
    "print(node4.address)  #to access data of node1 using address of node4\n",
    "print(node4.address.data)  #to access data of node1 using address of node4"
   ]
  }
 ],
 "metadata": {
  "kernelspec": {
   "display_name": "Python 3",
   "language": "python",
   "name": "python3"
  },
  "language_info": {
   "codemirror_mode": {
    "name": "ipython",
    "version": 3
   },
   "file_extension": ".py",
   "mimetype": "text/x-python",
   "name": "python",
   "nbconvert_exporter": "python",
   "pygments_lexer": "ipython3",
   "version": "3.13.0"
  }
 },
 "nbformat": 4,
 "nbformat_minor": 5
}
